{
  "cells": [
    {
      "cell_type": "markdown",
      "metadata": {
        "id": "view-in-github",
        "colab_type": "text"
      },
      "source": [
        "<a href=\"https://colab.research.google.com/github/DataBytes-Organisation/.github/blob/main/_train_model_EfficientNetV2S.ipynb\" target=\"_parent\"><img src=\"https://colab.research.google.com/assets/colab-badge.svg\" alt=\"Open In Colab\"/></a>"
      ]
    },
    {
      "cell_type": "code",
      "execution_count": null,
      "metadata": {
        "id": "0AqYbtehvlUZ"
      },
      "outputs": [],
      "source": [
        "import warnings\n",
        "warnings.filterwarnings(\"ignore\")"
      ]
    },
    {
      "cell_type": "code",
      "execution_count": null,
      "metadata": {
        "colab": {
          "base_uri": "https://localhost:8080/"
        },
        "id": "WvE0rM9uyfah",
        "outputId": "9ccd6a71-5ddb-4a27-fbac-684754c4ea53"
      },
      "outputs": [
        {
          "output_type": "stream",
          "name": "stdout",
          "text": [
            "Drive already mounted at /content/drive; to attempt to forcibly remount, call drive.mount(\"/content/drive\", force_remount=True).\n"
          ]
        }
      ],
      "source": [
        "from google.colab import drive\n",
        "drive.mount('/content/drive')"
      ]
    },
    {
      "cell_type": "code",
      "execution_count": null,
      "metadata": {
        "id": "Q-yUdZLWyPDD"
      },
      "outputs": [],
      "source": [
        "import os\n",
        "os.chdir(\"/content/drive/Othercomputers/My PC/Project-Echo/src/Prototypes/engine/Transfer Learning Models\")"
      ]
    },
    {
      "cell_type": "code",
      "execution_count": null,
      "metadata": {
        "id": "9Oxyu9lnRnqD"
      },
      "outputs": [],
      "source": [
        "from _model_config import *"
      ]
    },
    {
      "cell_type": "code",
      "execution_count": null,
      "metadata": {
        "id": "_U2dr35UxpQe"
      },
      "outputs": [],
      "source": [
        "%pip install diskcache -q\n",
        "%pip install audiomentations==0.29.0 -q\n",
        "%pip install tensorflow==2.10.0 -q\n",
        "%pip install keras==2.10.0 -q\n",
        "%pip install tensorflow_addons -q"
      ]
    },
    {
      "cell_type": "code",
      "execution_count": null,
      "metadata": {
        "colab": {
          "base_uri": "https://localhost:8080/"
        },
        "id": "NngjaCkMUCO4",
        "outputId": "f1190852-407f-486a-d772-c24764ad5d4a"
      },
      "outputs": [
        {
          "output_type": "stream",
          "name": "stdout",
          "text": [
            "Requirement already satisfied: chardet in /usr/local/lib/python3.10/dist-packages (5.2.0)\n"
          ]
        }
      ],
      "source": [
        "pip install chardet\n"
      ]
    },
    {
      "cell_type": "code",
      "execution_count": null,
      "metadata": {
        "id": "Q0r1crUevlUb"
      },
      "outputs": [],
      "source": [
        "exec(f\"from {MODEL_NAME} import *\")"
      ]
    },
    {
      "cell_type": "code",
      "execution_count": null,
      "metadata": {
        "colab": {
          "base_uri": "https://localhost:8080/",
          "height": 1000
        },
        "id": "INkqi6buvlUd",
        "outputId": "50a10537-fcb0-40da-b8a6-f67631bed414"
      },
      "outputs": [
        {
          "output_type": "stream",
          "name": "stdout",
          "text": [
            "Model: \"model_6\"\n",
            "____________________________________________________________________________\n",
            " Layer (type)                Output Shape              Param #   Trainable  \n",
            "============================================================================\n",
            " input_14 (InputLayer)       [(None, 299, 299, 3)]     0         Y          \n",
            "                                                                            \n",
            " efficientnetv2-s (Functiona  (None, 10, 10, 1280)     20331360  N          \n",
            " l)                                                                         \n",
            "                                                                            \n",
            " global_average_pooling2d_6   (None, 1280)             0         Y          \n",
            " (GlobalAveragePooling2D)                                                   \n",
            "                                                                            \n",
            " dropout_6 (Dropout)         (None, 1280)              0         Y          \n",
            "                                                                            \n",
            " dense_6 (Dense)             (None, 118)               151158    Y          \n",
            "                                                                            \n",
            "============================================================================\n",
            "Total params: 20,482,518\n",
            "Trainable params: 151,158\n",
            "Non-trainable params: 20,331,360\n",
            "____________________________________________________________________________\n",
            "Epoch 1/5000\n"
          ]
        },
        {
          "output_type": "error",
          "ename": "UnknownError",
          "evalue": "Graph execution error:\n\nOperationalError: unable to open database file\nTraceback (most recent call last):\n\n  File \"/usr/local/lib/python3.10/dist-packages/tensorflow/python/ops/script_ops.py\", line 271, in __call__\n    ret = func(*args)\n\n  File \"/usr/local/lib/python3.10/dist-packages/tensorflow/python/autograph/impl/api.py\", line 642, in wrapper\n    return func(*args, **kwargs)\n\n  File \"/tmp/__autograph_generated_file_d8lp0p1.py\", line 10, in <lambda>\n    (sample, label, variant, cache_key, cache_found) = ag__.converted_call(ag__.ld(tf).numpy_function, (), dict(func=ag__.autograph_artifact(lambda v1, v2, v3, v4, v5: ag__.converted_call(ag__.ld(pipeline_fn), (ag__.ld(v1), ag__.ld(v2), ag__.ld(v3), ag__.ld(v4), ag__.ld(v5)), None, fscope)), inp=(ag__.ld(sample), ag__.ld(label), ag__.ld(variant), ag__.ld(cache_key), ag__.ld(cache_found)), Tout=ag__.ld(out_types)), fscope)\n\n  File \"/usr/local/lib/python3.10/dist-packages/tensorflow/python/autograph/impl/api.py\", line 335, in converted_call\n    return _call_unconverted(f, args, kwargs, options, False)\n\n  File \"/usr/local/lib/python3.10/dist-packages/tensorflow/python/autograph/impl/api.py\", line 459, in _call_unconverted\n    return f(*args)\n\n  File \"/content/drive/Othercomputers/My PC/Project-Echo/src/Prototypes/engine/Transfer Learning Models/EfficientNetV2S.py\", line 284, in python_disk_cache_start\n    if cache_key in cache:\n\n  File \"/usr/local/lib/python3.10/dist-packages/diskcache/core.py\", line 1262, in __contains__\n    sql = self._sql\n\n  File \"/usr/local/lib/python3.10/dist-packages/diskcache/core.py\", line 648, in _sql\n    return self._con.execute\n\n  File \"/usr/local/lib/python3.10/dist-packages/diskcache/core.py\", line 623, in _con\n    con = self._local.con = sqlite3.connect(\n\nsqlite3.OperationalError: unable to open database file\n\n\n\t [[{{node PyFunc}}]]\n\t [[IteratorGetNext]] [Op:__inference_train_function_285092]",
          "traceback": [
            "\u001b[0;31m---------------------------------------------------------------------------\u001b[0m",
            "\u001b[0;31mUnknownError\u001b[0m                              Traceback (most recent call last)",
            "\u001b[0;32m<ipython-input-31-4dc2ba0c028a>\u001b[0m in \u001b[0;36m<cell line: 1>\u001b[0;34m()\u001b[0m\n\u001b[0;32m----> 1\u001b[0;31m \u001b[0mtrain_model\u001b[0m\u001b[0;34m(\u001b[0m\u001b[0;34m)\u001b[0m\u001b[0;34m\u001b[0m\u001b[0;34m\u001b[0m\u001b[0m\n\u001b[0m",
            "\u001b[0;32m/content/drive/Othercomputers/My PC/Project-Echo/src/Prototypes/engine/Transfer Learning Models/EfficientNetV2S.py\u001b[0m in \u001b[0;36mtrain_model\u001b[0;34m()\u001b[0m\n\u001b[1;32m    533\u001b[0m     )\n\u001b[1;32m    534\u001b[0m \u001b[0;34m\u001b[0m\u001b[0m\n\u001b[0;32m--> 535\u001b[0;31m     model.fit(\n\u001b[0m\u001b[1;32m    536\u001b[0m         \u001b[0mtrain_dataset\u001b[0m\u001b[0;34m,\u001b[0m\u001b[0;34m\u001b[0m\u001b[0;34m\u001b[0m\u001b[0m\n\u001b[1;32m    537\u001b[0m         \u001b[0mvalidation_data\u001b[0m\u001b[0;34m=\u001b[0m\u001b[0mvalidation_dataset\u001b[0m\u001b[0;34m,\u001b[0m\u001b[0;34m\u001b[0m\u001b[0;34m\u001b[0m\u001b[0m\n",
            "\u001b[0;32m/usr/local/lib/python3.10/dist-packages/keras/utils/traceback_utils.py\u001b[0m in \u001b[0;36merror_handler\u001b[0;34m(*args, **kwargs)\u001b[0m\n\u001b[1;32m     68\u001b[0m             \u001b[0;31m# To get the full stack trace, call:\u001b[0m\u001b[0;34m\u001b[0m\u001b[0;34m\u001b[0m\u001b[0m\n\u001b[1;32m     69\u001b[0m             \u001b[0;31m# `tf.debugging.disable_traceback_filtering()`\u001b[0m\u001b[0;34m\u001b[0m\u001b[0;34m\u001b[0m\u001b[0m\n\u001b[0;32m---> 70\u001b[0;31m             \u001b[0;32mraise\u001b[0m \u001b[0me\u001b[0m\u001b[0;34m.\u001b[0m\u001b[0mwith_traceback\u001b[0m\u001b[0;34m(\u001b[0m\u001b[0mfiltered_tb\u001b[0m\u001b[0;34m)\u001b[0m \u001b[0;32mfrom\u001b[0m \u001b[0;32mNone\u001b[0m\u001b[0;34m\u001b[0m\u001b[0;34m\u001b[0m\u001b[0m\n\u001b[0m\u001b[1;32m     71\u001b[0m         \u001b[0;32mfinally\u001b[0m\u001b[0;34m:\u001b[0m\u001b[0;34m\u001b[0m\u001b[0;34m\u001b[0m\u001b[0m\n\u001b[1;32m     72\u001b[0m             \u001b[0;32mdel\u001b[0m \u001b[0mfiltered_tb\u001b[0m\u001b[0;34m\u001b[0m\u001b[0;34m\u001b[0m\u001b[0m\n",
            "\u001b[0;32m/usr/local/lib/python3.10/dist-packages/tensorflow/python/eager/execute.py\u001b[0m in \u001b[0;36mquick_execute\u001b[0;34m(op_name, num_outputs, inputs, attrs, ctx, name)\u001b[0m\n\u001b[1;32m     52\u001b[0m   \u001b[0;32mtry\u001b[0m\u001b[0;34m:\u001b[0m\u001b[0;34m\u001b[0m\u001b[0;34m\u001b[0m\u001b[0m\n\u001b[1;32m     53\u001b[0m     \u001b[0mctx\u001b[0m\u001b[0;34m.\u001b[0m\u001b[0mensure_initialized\u001b[0m\u001b[0;34m(\u001b[0m\u001b[0;34m)\u001b[0m\u001b[0;34m\u001b[0m\u001b[0;34m\u001b[0m\u001b[0m\n\u001b[0;32m---> 54\u001b[0;31m     tensors = pywrap_tfe.TFE_Py_Execute(ctx._handle, device_name, op_name,\n\u001b[0m\u001b[1;32m     55\u001b[0m                                         inputs, attrs, num_outputs)\n\u001b[1;32m     56\u001b[0m   \u001b[0;32mexcept\u001b[0m \u001b[0mcore\u001b[0m\u001b[0;34m.\u001b[0m\u001b[0m_NotOkStatusException\u001b[0m \u001b[0;32mas\u001b[0m \u001b[0me\u001b[0m\u001b[0;34m:\u001b[0m\u001b[0;34m\u001b[0m\u001b[0;34m\u001b[0m\u001b[0m\n",
            "\u001b[0;31mUnknownError\u001b[0m: Graph execution error:\n\nOperationalError: unable to open database file\nTraceback (most recent call last):\n\n  File \"/usr/local/lib/python3.10/dist-packages/tensorflow/python/ops/script_ops.py\", line 271, in __call__\n    ret = func(*args)\n\n  File \"/usr/local/lib/python3.10/dist-packages/tensorflow/python/autograph/impl/api.py\", line 642, in wrapper\n    return func(*args, **kwargs)\n\n  File \"/tmp/__autograph_generated_file_d8lp0p1.py\", line 10, in <lambda>\n    (sample, label, variant, cache_key, cache_found) = ag__.converted_call(ag__.ld(tf).numpy_function, (), dict(func=ag__.autograph_artifact(lambda v1, v2, v3, v4, v5: ag__.converted_call(ag__.ld(pipeline_fn), (ag__.ld(v1), ag__.ld(v2), ag__.ld(v3), ag__.ld(v4), ag__.ld(v5)), None, fscope)), inp=(ag__.ld(sample), ag__.ld(label), ag__.ld(variant), ag__.ld(cache_key), ag__.ld(cache_found)), Tout=ag__.ld(out_types)), fscope)\n\n  File \"/usr/local/lib/python3.10/dist-packages/tensorflow/python/autograph/impl/api.py\", line 335, in converted_call\n    return _call_unconverted(f, args, kwargs, options, False)\n\n  File \"/usr/local/lib/python3.10/dist-packages/tensorflow/python/autograph/impl/api.py\", line 459, in _call_unconverted\n    return f(*args)\n\n  File \"/content/drive/Othercomputers/My PC/Project-Echo/src/Prototypes/engine/Transfer Learning Models/EfficientNetV2S.py\", line 284, in python_disk_cache_start\n    if cache_key in cache:\n\n  File \"/usr/local/lib/python3.10/dist-packages/diskcache/core.py\", line 1262, in __contains__\n    sql = self._sql\n\n  File \"/usr/local/lib/python3.10/dist-packages/diskcache/core.py\", line 648, in _sql\n    return self._con.execute\n\n  File \"/usr/local/lib/python3.10/dist-packages/diskcache/core.py\", line 623, in _con\n    con = self._local.con = sqlite3.connect(\n\nsqlite3.OperationalError: unable to open database file\n\n\n\t [[{{node PyFunc}}]]\n\t [[IteratorGetNext]] [Op:__inference_train_function_285092]"
          ]
        }
      ],
      "source": [
        "train_model()"
      ]
    }
  ],
  "metadata": {
    "accelerator": "GPU",
    "colab": {
      "gpuType": "L4",
      "machine_shape": "hm",
      "provenance": [],
      "include_colab_link": true
    },
    "kernelspec": {
      "display_name": "Python 3",
      "name": "python3"
    },
    "language_info": {
      "codemirror_mode": {
        "name": "ipython",
        "version": 3
      },
      "file_extension": ".py",
      "mimetype": "text/x-python",
      "name": "python",
      "nbconvert_exporter": "python",
      "pygments_lexer": "ipython3",
      "version": "3.8.16"
    }
  },
  "nbformat": 4,
  "nbformat_minor": 0
}